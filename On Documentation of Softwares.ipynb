{
 "cells": [
  {
   "cell_type": "markdown",
   "metadata": {},
   "source": [
    "# On Documentation of Softwares\n",
    "\n",
    "Sources:\n",
    "Pycon 2016 & Pycon 2017 - Daniele Procida\n",
    "\n",
    "Claim: Django doc is *exemplary*\n",
    "\n",
    "Documentation has an audience ! Developers, non-developers, testers, consumers of api etc.  \n",
    "So it must be written with the audience in mind.  \n",
    "\n",
    "> Documentation is a *process*, not just a *product*.\n",
    "> Documentation is an *activity*, not just content.\n",
    "\n",
    "What does it mean ? Documentation must evolve and should respect the audience. If the user doesn't understand the docs, there is higher chance that docs are NOT properly written.  \n",
    "\n",
    "> Good documentation shows respect !\n",
    "\n",
    "And thus good documentation helps form a consistent community.\n",
    "\n",
    "**How to improve documentation**  \n",
    "\n",
    "- Document the documentation: Django project has detailed steps on how to write the documentation.  \n",
    "  Check Django's [Writing documentation](https://docs.djangoproject.com/en/dev/internals/contributing/writing-documentation/)  \n",
    "- In other words, make *documentation policies* and follow them rigorously.\n",
    "- Structure your documentation properly.\n",
    "\n",
    "\n",
    "Documentation comprises of 4 things -\n",
    "\n",
    "1. Tutorials\n",
    "   - Getting started. NOT about making the reader an expert.\n",
    "   - Must be simple, friendly(non-intimidating).\n",
    "   - Minimum explanation.\n",
    "   \n",
    "   > Learning goes from concrete to general, and not other way around.\n",
    "   \n",
    "   > Hardest part to write and maintain.\n",
    "   \n",
    "2. How-to Guides\n",
    "   - Problem oriented. Beginners might not have such problems.\n",
    "   - Focussed on solving a problem. Anything else is a distraction.\n",
    "   \n",
    "3. Reference\n",
    "    - Technical description of the machinery i.e. an encyclopedia.\n",
    "    - Structure and consistency(eg examples used) with other documentation are important.\n",
    "\n",
    "4. Discussions/Explanations\n",
    "    - Useful for giving context\n",
    "    - Why something is desinged, implemented or written in a specific way. \n",
    "    \n",
    " \n"
   ]
  },
  {
   "cell_type": "markdown",
   "metadata": {},
   "source": [
    "**How these 4 are related to each other ?**\n",
    "\n",
    "<img src=\"images/documentation_parts.png\" />\n",
    "\n",
    "Source: https://www.youtube.com/watch?v=azf6yzuJt54\n",
    "\n",
    "There are overlapping concetps, and hence it no wonder that most documentations are jumbles and hence difficult to comprehend. "
   ]
  },
  {
   "cell_type": "code",
   "execution_count": null,
   "metadata": {
    "collapsed": true
   },
   "outputs": [],
   "source": []
  },
  {
   "cell_type": "markdown",
   "metadata": {},
   "source": [
    "More details from Daniele are given here - https://www.divio.com/en/blog/documentation/\n",
    "\n",
    "To summarize in his words -\n",
    "\n",
    "<img src=\"images/documentation_parts_explanation.png\" />"
   ]
  },
  {
   "cell_type": "code",
   "execution_count": null,
   "metadata": {
    "collapsed": true
   },
   "outputs": [],
   "source": []
  }
 ],
 "metadata": {
  "kernelspec": {
   "display_name": "Python 3",
   "language": "python",
   "name": "python3"
  },
  "language_info": {
   "codemirror_mode": {
    "name": "ipython",
    "version": 3
   },
   "file_extension": ".py",
   "mimetype": "text/x-python",
   "name": "python",
   "nbconvert_exporter": "python",
   "pygments_lexer": "ipython3",
   "version": "3.6.1"
  }
 },
 "nbformat": 4,
 "nbformat_minor": 2
}
