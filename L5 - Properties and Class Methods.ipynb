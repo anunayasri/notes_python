{
 "cells": [
  {
   "cell_type": "code",
   "execution_count": 1,
   "metadata": {
    "collapsed": true
   },
   "outputs": [],
   "source": [
    "class ShippingContainer:\n",
    "    next_serial = 1337                  # static attr\n",
    "    def __init__(self, owner_code, contents):\n",
    "        self.owner_code = owner_code    # instance attribute\n",
    "        self.contents = contents        # instance attr\n",
    "        self.serial = ShippingContainer.next_serial  \n",
    "        # self.next_serial can also access the static attr, makes the code less readable\n",
    "        ShippingContainer.next_serial += 1   # self.next_serial will not work & will create a new instance variable with name 'next_serial'\n",
    "        "
   ]
  },
  {
   "cell_type": "code",
   "execution_count": 2,
   "metadata": {
    "collapsed": true
   },
   "outputs": [],
   "source": [
    "# version 2\n",
    "class ShippingContainer:\n",
    "    next_serial = 1337\n",
    "    def _get_next_serial(self):     # self is not used in the function. This should be static method\n",
    "        result = ShippingContainer.next_serial\n",
    "        ShippingContainer.next_serial += 1\n",
    "        return result\n",
    "        \n",
    "    def __init__(self, owner_code, contents):\n",
    "        self.owner_code = owner_code\n",
    "        self.contents = contents\n",
    "        self.serial = ShippingContainer._get_next_serial()"
   ]
  },
  {
   "cell_type": "code",
   "execution_count": 3,
   "metadata": {
    "collapsed": true
   },
   "outputs": [],
   "source": [
    "# version 3\n",
    "class ShippingContainer:\n",
    "    next_serial = 1337\n",
    "    \n",
    "    @staticmethod\n",
    "    def _get_next_serial():      # self not used\n",
    "        result = ShippingContainer.next_serial\n",
    "        ShippingContainer.next_serial += 1\n",
    "        return result\n",
    "        \n",
    "    def __init__(self, owner_code, contents):\n",
    "        self.owner_code = owner_code\n",
    "        self.contents = contents\n",
    "        self.serial = ShippingContainer._get_next_serial()"
   ]
  },
  {
   "cell_type": "code",
   "execution_count": 4,
   "metadata": {
    "collapsed": true
   },
   "outputs": [],
   "source": [
    "# version 4\n",
    "class ShippingContainer:\n",
    "    next_serial = 1337\n",
    "    \n",
    "    @classmethod\n",
    "    def _get_next_serial(cls):      # accepts a param which is reference to the class object(ShippingContainer)\n",
    "        result = cls.next_serial\n",
    "        cls.next_serial += 1\n",
    "        return result\n",
    "        \n",
    "    def __init__(self, owner_code, contents):\n",
    "        self.owner_code = owner_code\n",
    "        self.contents = contents\n",
    "        self.serial = ShippingContainer._get_next_serial()\n",
    "        \n",
    "# If you need class reference inside the static method use @classmethod"
   ]
  },
  {
   "cell_type": "code",
   "execution_count": 5,
   "metadata": {
    "collapsed": true
   },
   "outputs": [],
   "source": [
    "# version 5\n",
    "class ShippingContainer:\n",
    "    next_serial = 1337\n",
    "    \n",
    "    @classmethod\n",
    "    def _get_next_serial(cls):\n",
    "        result = cls.next_serial\n",
    "        cls.next_serial += 1\n",
    "        return result\n",
    "    \n",
    "    @classmethod\n",
    "    def create_empty(cls, owner_code):\n",
    "        return cls(owner_code, contents=None)\n",
    "        \n",
    "    def __init__(self, owner_code, contents):\n",
    "        self.owner_code = owner_code\n",
    "        self.contents = contents\n",
    "        self.serial = ShippingContainer._get_next_serial()"
   ]
  },
  {
   "cell_type": "markdown",
   "metadata": {},
   "source": [
    "**Static methods in inheritance**  \n",
    "\n",
    "*In Python, static methods of base class can be overidden*"
   ]
  },
  {
   "cell_type": "code",
   "execution_count": 9,
   "metadata": {},
   "outputs": [],
   "source": [
    "# version 6\n",
    "class ShippingContainer:\n",
    "    next_serial = 1337\n",
    "    \n",
    "    @classmethod\n",
    "    def _get_next_serial(cls):\n",
    "        result = cls.next_serial\n",
    "        cls.next_serial += 1\n",
    "        return result\n",
    "    \n",
    "    @classmethod\n",
    "    def create_empty(cls, owner_code):\n",
    "        return cls(owner_code, contents=None)\n",
    "        \n",
    "    def __init__(self, owner_code, contents):\n",
    "        self.owner_code = owner_code\n",
    "        self.contents = contents\n",
    "        self.serial = ShippingContainer._get_next_serial()\n",
    "\n",
    "class RefrigeratedShippingContainer(ShippingContainer):\n",
    "    MAX_CELSIUS = 4.0\n",
    "    \n",
    "    def __init__(self, owner_code, contents, celsius):\n",
    "        # super() gets the previous class object. __init__() calls its constructor\n",
    "        super().__init__(owner_code, contents)\n",
    "        if celsius > RefrigeratedShippingContainer.MAX_CELSIUS:\n",
    "            raise ValueError(\"Temperature too hot !\")\n",
    "        self.celsius = celsius\n",
    "        \n",
    "r1 = RefrigeratedShippingContainer(\"ABC\", [\"mango\", \"lichi\"], 1)"
   ]
  },
  {
   "cell_type": "code",
   "execution_count": 10,
   "metadata": {},
   "outputs": [
    {
     "ename": "TypeError",
     "evalue": "__init__() missing 1 required positional argument: 'celsius'",
     "output_type": "error",
     "traceback": [
      "\u001b[0;31m---------------------------------------------------------------------------\u001b[0m",
      "\u001b[0;31mTypeError\u001b[0m                                 Traceback (most recent call last)",
      "\u001b[0;32m<ipython-input-10-1027570233fd>\u001b[0m in \u001b[0;36m<module>\u001b[0;34m()\u001b[0m\n\u001b[0;32m----> 1\u001b[0;31m \u001b[0mr2\u001b[0m \u001b[0;34m=\u001b[0m \u001b[0mRefrigeratedShippingContainer\u001b[0m\u001b[0;34m.\u001b[0m\u001b[0mcreate_empty\u001b[0m\u001b[0;34m(\u001b[0m\u001b[0;34m\"ABC\"\u001b[0m\u001b[0;34m)\u001b[0m\u001b[0;34m\u001b[0m\u001b[0m\n\u001b[0m",
      "\u001b[0;32m<ipython-input-9-e6a5dcc096ae>\u001b[0m in \u001b[0;36mcreate_empty\u001b[0;34m(cls, owner_code)\u001b[0m\n\u001b[1;32m     10\u001b[0m     \u001b[0;34m@\u001b[0m\u001b[0mclassmethod\u001b[0m\u001b[0;34m\u001b[0m\u001b[0m\n\u001b[1;32m     11\u001b[0m     \u001b[0;32mdef\u001b[0m \u001b[0mcreate_empty\u001b[0m\u001b[0;34m(\u001b[0m\u001b[0mcls\u001b[0m\u001b[0;34m,\u001b[0m \u001b[0mowner_code\u001b[0m\u001b[0;34m)\u001b[0m\u001b[0;34m:\u001b[0m\u001b[0;34m\u001b[0m\u001b[0m\n\u001b[0;32m---> 12\u001b[0;31m         \u001b[0;32mreturn\u001b[0m \u001b[0mcls\u001b[0m\u001b[0;34m(\u001b[0m\u001b[0mowner_code\u001b[0m\u001b[0;34m,\u001b[0m \u001b[0mcontents\u001b[0m\u001b[0;34m=\u001b[0m\u001b[0;32mNone\u001b[0m\u001b[0;34m)\u001b[0m\u001b[0;34m\u001b[0m\u001b[0m\n\u001b[0m\u001b[1;32m     13\u001b[0m \u001b[0;34m\u001b[0m\u001b[0m\n\u001b[1;32m     14\u001b[0m     \u001b[0;32mdef\u001b[0m \u001b[0m__init__\u001b[0m\u001b[0;34m(\u001b[0m\u001b[0mself\u001b[0m\u001b[0;34m,\u001b[0m \u001b[0mowner_code\u001b[0m\u001b[0;34m,\u001b[0m \u001b[0mcontents\u001b[0m\u001b[0;34m)\u001b[0m\u001b[0;34m:\u001b[0m\u001b[0;34m\u001b[0m\u001b[0m\n",
      "\u001b[0;31mTypeError\u001b[0m: __init__() missing 1 required positional argument: 'celsius'"
     ]
    }
   ],
   "source": [
    "r2 = RefrigeratedShippingContainer.create_empty(\"ABC\")"
   ]
  },
  {
   "cell_type": "markdown",
   "metadata": {},
   "source": [
    "This calls the `create_empty()` method of base class. This fails because base class method doesn't know and shouldn't know the signature of derived class.  \n",
    "Implement this using the following -"
   ]
  },
  {
   "cell_type": "code",
   "execution_count": 12,
   "metadata": {},
   "outputs": [],
   "source": [
    "# version 7\n",
    "class ShippingContainer:\n",
    "    next_serial = 1337\n",
    "    \n",
    "    @classmethod\n",
    "    def _get_next_serial(cls):\n",
    "        result = cls.next_serial\n",
    "        cls.next_serial += 1\n",
    "        return result\n",
    "    \n",
    "    @classmethod\n",
    "    def create_empty(cls, owner_code, *args, **kwargs):\n",
    "        return cls(owner_code, contents=None, *args, **kwargs)\n",
    "        \n",
    "    def __init__(self, owner_code, contents):   # This will be overidden, so no need to pass *args, **kwargs\n",
    "        self.owner_code = owner_code\n",
    "        self.contents = contents\n",
    "        self.serial = ShippingContainer._get_next_serial()\n",
    "\n",
    "class RefrigeratedShippingContainer(ShippingContainer):\n",
    "    MAX_CELSIUS = 4.0\n",
    "    \n",
    "    def __init__(self, owner_code, contents, celsius):\n",
    "        # super() gets the previous class object. __init__() calls its constructor\n",
    "        super().__init__(owner_code, contents)\n",
    "        if celsius > RefrigeratedShippingContainer.MAX_CELSIUS:\n",
    "            raise ValueError(\"Temperature too hot !\")\n",
    "        self.celsius = celsius\n",
    "        \n",
    "r3 = RefrigeratedShippingContainer.create_empty(\"ABC\", celsius=2.0)"
   ]
  },
  {
   "cell_type": "code",
   "execution_count": 15,
   "metadata": {},
   "outputs": [],
   "source": [
    "r3.celsius = 12    # This works\n",
    "# We need setter func for this variable"
   ]
  },
  {
   "cell_type": "markdown",
   "metadata": {},
   "source": [
    "### Setter and Getter functions for variables\n",
    "\n",
    "Once approach can be \n",
    "```py\n",
    "class ShippingContainer:\n",
    "    def __init__(...):\n",
    "        ...\n",
    "        self._celsius = celsius\n",
    "        \n",
    "    def set_celsius(c):\n",
    "        ...\n",
    "        \n",
    "    def get_celsius():\n",
    "        ...\n",
    "        \n",
    "    ...\n",
    "    \n",
    "```\n",
    "\n",
    "> This is deeply UNPYTHONIC ! Never ever use this !\n",
    "\n",
    "> Python $\\neq$ Java\n",
    "\n",
    "Python provides a graceful way to provide setters and getters"
   ]
  },
  {
   "cell_type": "code",
   "execution_count": 20,
   "metadata": {
    "collapsed": true
   },
   "outputs": [],
   "source": [
    "# version 8\n",
    "class ShippingContainer:\n",
    "    next_serial = 1337\n",
    "    \n",
    "    @classmethod\n",
    "    def _get_next_serial(cls):\n",
    "        result = cls.next_serial\n",
    "        cls.next_serial += 1\n",
    "        return result\n",
    "    \n",
    "    @classmethod\n",
    "    def create_empty(cls, owner_code, *args, **kwargs):\n",
    "        return cls(owner_code, contents=None, *args, **kwargs)\n",
    "        \n",
    "    def __init__(self, owner_code, contents):   # This will be overidden, so no need to pass *args, **kwargs\n",
    "        self.owner_code = owner_code\n",
    "        self.contents = contents\n",
    "        self.serial = ShippingContainer._get_next_serial()\n",
    "\n",
    "class RefrigeratedShippingContainer(ShippingContainer):\n",
    "    MAX_CELSIUS = 4.0\n",
    "    \n",
    "    def __init__(self, owner_code, contents, celsius):\n",
    "        # super() gets the previous class object. __init__() calls its constructor\n",
    "        super().__init__(owner_code, contents)\n",
    "        if celsius > RefrigeratedShippingContainer.MAX_CELSIUS:\n",
    "            raise ValueError(\"Temperature too hot !\")\n",
    "        self._celsius = celsius\n",
    "        \n",
    "    @property\n",
    "    def celcius(self):\n",
    "        return self._celsius"
   ]
  },
  {
   "cell_type": "code",
   "execution_count": 21,
   "metadata": {
    "collapsed": true
   },
   "outputs": [],
   "source": [
    "r4 = RefrigeratedShippingContainer.create_empty(\"ABC\", celsius=3.0)"
   ]
  },
  {
   "cell_type": "code",
   "execution_count": 26,
   "metadata": {},
   "outputs": [
    {
     "data": {
      "text/plain": [
       "3.0"
      ]
     },
     "execution_count": 26,
     "metadata": {},
     "output_type": "execute_result"
    }
   ],
   "source": [
    "r4.celsius = 3.5\n",
    "r4.celcius       # Did not change celsius object"
   ]
  },
  {
   "cell_type": "code",
   "execution_count": 27,
   "metadata": {},
   "outputs": [
    {
     "ename": "ValueError",
     "evalue": "Temperater is too hot !",
     "output_type": "error",
     "traceback": [
      "\u001b[0;31m---------------------------------------------------------------------------\u001b[0m",
      "\u001b[0;31mValueError\u001b[0m                                Traceback (most recent call last)",
      "\u001b[0;32m<ipython-input-27-3a2f3483aad2>\u001b[0m in \u001b[0;36m<module>\u001b[0;34m()\u001b[0m\n\u001b[1;32m     39\u001b[0m \u001b[0;34m\u001b[0m\u001b[0m\n\u001b[1;32m     40\u001b[0m \u001b[0mr5\u001b[0m \u001b[0;34m=\u001b[0m \u001b[0mRefrigeratedShippingContainer\u001b[0m\u001b[0;34m.\u001b[0m\u001b[0mcreate_empty\u001b[0m\u001b[0;34m(\u001b[0m\u001b[0;34m\"ABC\"\u001b[0m\u001b[0;34m,\u001b[0m \u001b[0mcelsius\u001b[0m\u001b[0;34m=\u001b[0m\u001b[0;36m3.0\u001b[0m\u001b[0;34m)\u001b[0m\u001b[0;34m\u001b[0m\u001b[0m\n\u001b[0;32m---> 41\u001b[0;31m \u001b[0mr5\u001b[0m\u001b[0;34m.\u001b[0m\u001b[0mcelsius\u001b[0m \u001b[0;34m=\u001b[0m \u001b[0;36m10.0\u001b[0m\u001b[0;34m\u001b[0m\u001b[0m\n\u001b[0m",
      "\u001b[0;32m<ipython-input-27-3a2f3483aad2>\u001b[0m in \u001b[0;36mcelsius\u001b[0;34m(self, temperature)\u001b[0m\n\u001b[1;32m     35\u001b[0m     \u001b[0;32mdef\u001b[0m \u001b[0mcelsius\u001b[0m\u001b[0;34m(\u001b[0m\u001b[0mself\u001b[0m\u001b[0;34m,\u001b[0m \u001b[0mtemperature\u001b[0m\u001b[0;34m)\u001b[0m\u001b[0;34m:\u001b[0m\u001b[0;34m\u001b[0m\u001b[0m\n\u001b[1;32m     36\u001b[0m         \u001b[0;32mif\u001b[0m \u001b[0mtemperature\u001b[0m \u001b[0;34m>\u001b[0m \u001b[0mRefrigeratedShippingContainer\u001b[0m\u001b[0;34m.\u001b[0m\u001b[0mMAX_CELSIUS\u001b[0m\u001b[0;34m:\u001b[0m\u001b[0;34m\u001b[0m\u001b[0m\n\u001b[0;32m---> 37\u001b[0;31m             \u001b[0;32mraise\u001b[0m \u001b[0mValueError\u001b[0m\u001b[0;34m(\u001b[0m\u001b[0;34m\"Temperater is too hot !\"\u001b[0m\u001b[0;34m)\u001b[0m\u001b[0;34m\u001b[0m\u001b[0m\n\u001b[0m\u001b[1;32m     38\u001b[0m         \u001b[0mself\u001b[0m\u001b[0;34m.\u001b[0m\u001b[0m_celsius\u001b[0m \u001b[0;34m=\u001b[0m \u001b[0mtemperature\u001b[0m\u001b[0;34m\u001b[0m\u001b[0m\n\u001b[1;32m     39\u001b[0m \u001b[0;34m\u001b[0m\u001b[0m\n",
      "\u001b[0;31mValueError\u001b[0m: Temperater is too hot !"
     ]
    }
   ],
   "source": [
    "# version 9\n",
    "class ShippingContainer:\n",
    "    next_serial = 1337\n",
    "    \n",
    "    @classmethod\n",
    "    def _get_next_serial(cls):\n",
    "        result = cls.next_serial\n",
    "        cls.next_serial += 1\n",
    "        return result\n",
    "    \n",
    "    @classmethod\n",
    "    def create_empty(cls, owner_code, *args, **kwargs):\n",
    "        return cls(owner_code, contents=None, *args, **kwargs)\n",
    "        \n",
    "    def __init__(self, owner_code, contents):   # This will be overidden, so no need to pass *args, **kwargs\n",
    "        self.owner_code = owner_code\n",
    "        self.contents = contents\n",
    "        self.serial = ShippingContainer._get_next_serial()\n",
    "\n",
    "class RefrigeratedShippingContainer(ShippingContainer):\n",
    "    MAX_CELSIUS = 4.0\n",
    "    \n",
    "    def __init__(self, owner_code, contents, celsius):\n",
    "        # super() gets the previous class object. __init__() calls its constructor\n",
    "        super().__init__(owner_code, contents)\n",
    "        if celsius > RefrigeratedShippingContainer.MAX_CELSIUS:\n",
    "            raise ValueError(\"Temperature too hot !\")\n",
    "        self._celsius = celsius\n",
    "        \n",
    "    @property\n",
    "    def celsius(self):\n",
    "        return self._celsius\n",
    "    \n",
    "    @celsius.setter\n",
    "    def celsius(self, temperature):\n",
    "        if temperature > RefrigeratedShippingContainer.MAX_CELSIUS:\n",
    "            raise ValueError(\"Temperater is too hot !\")\n",
    "        self._celsius = temperature\n",
    "        \n",
    "r5 = RefrigeratedShippingContainer.create_empty(\"ABC\", celsius=3.0)\n",
    "r5.celsius = 10.0"
   ]
  },
  {
   "cell_type": "markdown",
   "metadata": {},
   "source": [
    "<img src=\"images/property_decorator.png\" width=800px>"
   ]
  },
  {
   "cell_type": "code",
   "execution_count": 29,
   "metadata": {},
   "outputs": [
    {
     "ename": "ValueError",
     "evalue": "Temperater is too hot !",
     "output_type": "error",
     "traceback": [
      "\u001b[0;31m---------------------------------------------------------------------------\u001b[0m",
      "\u001b[0;31mValueError\u001b[0m                                Traceback (most recent call last)",
      "\u001b[0;32m<ipython-input-29-83d794eebd02>\u001b[0m in \u001b[0;36m<module>\u001b[0;34m()\u001b[0m\n\u001b[1;32m     36\u001b[0m         \u001b[0mself\u001b[0m\u001b[0;34m.\u001b[0m\u001b[0m_celsius\u001b[0m \u001b[0;34m=\u001b[0m \u001b[0mtemperature\u001b[0m\u001b[0;34m\u001b[0m\u001b[0m\n\u001b[1;32m     37\u001b[0m \u001b[0;34m\u001b[0m\u001b[0m\n\u001b[0;32m---> 38\u001b[0;31m \u001b[0mr6\u001b[0m \u001b[0;34m=\u001b[0m \u001b[0mRefrigeratedShippingContainer\u001b[0m\u001b[0;34m.\u001b[0m\u001b[0mcreate_empty\u001b[0m\u001b[0;34m(\u001b[0m\u001b[0;34m\"ABC\"\u001b[0m\u001b[0;34m,\u001b[0m \u001b[0mcelsius\u001b[0m\u001b[0;34m=\u001b[0m\u001b[0;36m13.0\u001b[0m\u001b[0;34m)\u001b[0m\u001b[0;34m\u001b[0m\u001b[0m\n\u001b[0m",
      "\u001b[0;32m<ipython-input-29-83d794eebd02>\u001b[0m in \u001b[0;36mcreate_empty\u001b[0;34m(cls, owner_code, *args, **kwargs)\u001b[0m\n\u001b[1;32m     11\u001b[0m     \u001b[0;34m@\u001b[0m\u001b[0mclassmethod\u001b[0m\u001b[0;34m\u001b[0m\u001b[0m\n\u001b[1;32m     12\u001b[0m     \u001b[0;32mdef\u001b[0m \u001b[0mcreate_empty\u001b[0m\u001b[0;34m(\u001b[0m\u001b[0mcls\u001b[0m\u001b[0;34m,\u001b[0m \u001b[0mowner_code\u001b[0m\u001b[0;34m,\u001b[0m \u001b[0;34m*\u001b[0m\u001b[0margs\u001b[0m\u001b[0;34m,\u001b[0m \u001b[0;34m**\u001b[0m\u001b[0mkwargs\u001b[0m\u001b[0;34m)\u001b[0m\u001b[0;34m:\u001b[0m\u001b[0;34m\u001b[0m\u001b[0m\n\u001b[0;32m---> 13\u001b[0;31m         \u001b[0;32mreturn\u001b[0m \u001b[0mcls\u001b[0m\u001b[0;34m(\u001b[0m\u001b[0mowner_code\u001b[0m\u001b[0;34m,\u001b[0m \u001b[0mcontents\u001b[0m\u001b[0;34m=\u001b[0m\u001b[0;32mNone\u001b[0m\u001b[0;34m,\u001b[0m \u001b[0;34m*\u001b[0m\u001b[0margs\u001b[0m\u001b[0;34m,\u001b[0m \u001b[0;34m**\u001b[0m\u001b[0mkwargs\u001b[0m\u001b[0;34m)\u001b[0m\u001b[0;34m\u001b[0m\u001b[0m\n\u001b[0m\u001b[1;32m     14\u001b[0m \u001b[0;34m\u001b[0m\u001b[0m\n\u001b[1;32m     15\u001b[0m     \u001b[0;32mdef\u001b[0m \u001b[0m__init__\u001b[0m\u001b[0;34m(\u001b[0m\u001b[0mself\u001b[0m\u001b[0;34m,\u001b[0m \u001b[0mowner_code\u001b[0m\u001b[0;34m,\u001b[0m \u001b[0mcontents\u001b[0m\u001b[0;34m)\u001b[0m\u001b[0;34m:\u001b[0m   \u001b[0;31m# This will be overidden, so no need to pass *args, **kwargs\u001b[0m\u001b[0;34m\u001b[0m\u001b[0m\n",
      "\u001b[0;32m<ipython-input-29-83d794eebd02>\u001b[0m in \u001b[0;36m__init__\u001b[0;34m(self, owner_code, contents, celsius)\u001b[0m\n\u001b[1;32m     24\u001b[0m         \u001b[0;31m# super() gets the previous class object. __init__() calls its constructor\u001b[0m\u001b[0;34m\u001b[0m\u001b[0;34m\u001b[0m\u001b[0m\n\u001b[1;32m     25\u001b[0m         \u001b[0msuper\u001b[0m\u001b[0;34m(\u001b[0m\u001b[0;34m)\u001b[0m\u001b[0;34m.\u001b[0m\u001b[0m__init__\u001b[0m\u001b[0;34m(\u001b[0m\u001b[0mowner_code\u001b[0m\u001b[0;34m,\u001b[0m \u001b[0mcontents\u001b[0m\u001b[0;34m)\u001b[0m\u001b[0;34m\u001b[0m\u001b[0m\n\u001b[0;32m---> 26\u001b[0;31m         \u001b[0mself\u001b[0m\u001b[0;34m.\u001b[0m\u001b[0mcelsius\u001b[0m \u001b[0;34m=\u001b[0m \u001b[0mcelsius\u001b[0m        \u001b[0;31m# using setter will automatically enforce validations\u001b[0m\u001b[0;34m\u001b[0m\u001b[0m\n\u001b[0m\u001b[1;32m     27\u001b[0m \u001b[0;34m\u001b[0m\u001b[0m\n\u001b[1;32m     28\u001b[0m     \u001b[0;34m@\u001b[0m\u001b[0mproperty\u001b[0m\u001b[0;34m\u001b[0m\u001b[0m\n",
      "\u001b[0;32m<ipython-input-29-83d794eebd02>\u001b[0m in \u001b[0;36mcelsius\u001b[0;34m(self, temperature)\u001b[0m\n\u001b[1;32m     33\u001b[0m     \u001b[0;32mdef\u001b[0m \u001b[0mcelsius\u001b[0m\u001b[0;34m(\u001b[0m\u001b[0mself\u001b[0m\u001b[0;34m,\u001b[0m \u001b[0mtemperature\u001b[0m\u001b[0;34m)\u001b[0m\u001b[0;34m:\u001b[0m\u001b[0;34m\u001b[0m\u001b[0m\n\u001b[1;32m     34\u001b[0m         \u001b[0;32mif\u001b[0m \u001b[0mtemperature\u001b[0m \u001b[0;34m>\u001b[0m \u001b[0mRefrigeratedShippingContainer\u001b[0m\u001b[0;34m.\u001b[0m\u001b[0mMAX_CELSIUS\u001b[0m\u001b[0;34m:\u001b[0m\u001b[0;34m\u001b[0m\u001b[0m\n\u001b[0;32m---> 35\u001b[0;31m             \u001b[0;32mraise\u001b[0m \u001b[0mValueError\u001b[0m\u001b[0;34m(\u001b[0m\u001b[0;34m\"Temperater is too hot !\"\u001b[0m\u001b[0;34m)\u001b[0m\u001b[0;34m\u001b[0m\u001b[0m\n\u001b[0m\u001b[1;32m     36\u001b[0m         \u001b[0mself\u001b[0m\u001b[0;34m.\u001b[0m\u001b[0m_celsius\u001b[0m \u001b[0;34m=\u001b[0m \u001b[0mtemperature\u001b[0m\u001b[0;34m\u001b[0m\u001b[0m\n\u001b[1;32m     37\u001b[0m \u001b[0;34m\u001b[0m\u001b[0m\n",
      "\u001b[0;31mValueError\u001b[0m: Temperater is too hot !"
     ]
    }
   ],
   "source": [
    "# version 10\n",
    "class ShippingContainer:\n",
    "    next_serial = 1337\n",
    "    \n",
    "    @classmethod\n",
    "    def _get_next_serial(cls):\n",
    "        result = cls.next_serial\n",
    "        cls.next_serial += 1\n",
    "        return result\n",
    "    \n",
    "    @classmethod\n",
    "    def create_empty(cls, owner_code, *args, **kwargs):\n",
    "        return cls(owner_code, contents=None, *args, **kwargs)\n",
    "        \n",
    "    def __init__(self, owner_code, contents):   # This will be overidden, so no need to pass *args, **kwargs\n",
    "        self.owner_code = owner_code\n",
    "        self.contents = contents\n",
    "        self.serial = ShippingContainer._get_next_serial()\n",
    "\n",
    "class RefrigeratedShippingContainer(ShippingContainer):\n",
    "    MAX_CELSIUS = 4.0\n",
    "    \n",
    "    def __init__(self, owner_code, contents, celsius):\n",
    "        # super() gets the previous class object. __init__() calls its constructor\n",
    "        super().__init__(owner_code, contents)\n",
    "        self.celsius = celsius        # using setter will automatically enforce validations\n",
    "        \n",
    "    @property\n",
    "    def celsius(self):\n",
    "        return self._celsius\n",
    "    \n",
    "    @celsius.setter\n",
    "    def celsius(self, temperature):\n",
    "        if temperature > RefrigeratedShippingContainer.MAX_CELSIUS:\n",
    "            raise ValueError(\"Temperater is too hot !\")\n",
    "        self._celsius = temperature\n",
    "        \n",
    "r6 = RefrigeratedShippingContainer.create_empty(\"ABC\", celsius=13.0)"
   ]
  },
  {
   "cell_type": "markdown",
   "metadata": {},
   "source": [
    "**@property and Inheritance** \n",
    "\n",
    "getter methods can be implemented in derived class by simply redefining the method. Nothing special !  \n"
   ]
  },
  {
   "cell_type": "code",
   "execution_count": 42,
   "metadata": {},
   "outputs": [
    {
     "ename": "ValueError",
     "evalue": "Temperature our of range !",
     "output_type": "error",
     "traceback": [
      "\u001b[0;31m---------------------------------------------------------------------------\u001b[0m",
      "\u001b[0;31mValueError\u001b[0m                                Traceback (most recent call last)",
      "\u001b[0;32m<ipython-input-42-e9cbe3099a8e>\u001b[0m in \u001b[0;36m<module>\u001b[0;34m()\u001b[0m\n\u001b[1;32m     49\u001b[0m \u001b[0;34m\u001b[0m\u001b[0m\n\u001b[1;32m     50\u001b[0m \u001b[0mr7\u001b[0m \u001b[0;34m=\u001b[0m \u001b[0mHeatedRefridgeratedShippingContainer\u001b[0m\u001b[0;34m.\u001b[0m\u001b[0mcreate_empty\u001b[0m\u001b[0;34m(\u001b[0m\u001b[0;34m\"ABC\"\u001b[0m\u001b[0;34m,\u001b[0m \u001b[0mcelsius\u001b[0m\u001b[0;34m=\u001b[0m\u001b[0;36m1.0\u001b[0m\u001b[0;34m)\u001b[0m\u001b[0;34m\u001b[0m\u001b[0m\n\u001b[0;32m---> 51\u001b[0;31m \u001b[0mr7\u001b[0m\u001b[0;34m.\u001b[0m\u001b[0mcelsius\u001b[0m \u001b[0;34m=\u001b[0m \u001b[0;34m-\u001b[0m\u001b[0;36m21\u001b[0m\u001b[0;34m\u001b[0m\u001b[0m\n\u001b[0m",
      "\u001b[0;32m<ipython-input-42-e9cbe3099a8e>\u001b[0m in \u001b[0;36mcelsius\u001b[0;34m(self, value)\u001b[0m\n\u001b[1;32m     45\u001b[0m                 \u001b[0;34m<=\u001b[0m \u001b[0mvalue\u001b[0m\u001b[0;34m\u001b[0m\u001b[0m\n\u001b[1;32m     46\u001b[0m                 <= RefrigeratedShippingContainer.MAX_CELSIUS):\n\u001b[0;32m---> 47\u001b[0;31m             \u001b[0;32mraise\u001b[0m \u001b[0mValueError\u001b[0m\u001b[0;34m(\u001b[0m\u001b[0;34m\"Temperature our of range !\"\u001b[0m\u001b[0;34m)\u001b[0m\u001b[0;34m\u001b[0m\u001b[0m\n\u001b[0m\u001b[1;32m     48\u001b[0m         \u001b[0mself\u001b[0m\u001b[0;34m.\u001b[0m\u001b[0m_celsius\u001b[0m \u001b[0;34m=\u001b[0m \u001b[0mvalue\u001b[0m\u001b[0;34m\u001b[0m\u001b[0m\n\u001b[1;32m     49\u001b[0m \u001b[0;34m\u001b[0m\u001b[0m\n",
      "\u001b[0;31mValueError\u001b[0m: Temperature our of range !"
     ]
    }
   ],
   "source": [
    "# version 11\n",
    "class ShippingContainer:\n",
    "    next_serial = 1337\n",
    "    \n",
    "    @classmethod\n",
    "    def _get_next_serial(cls):\n",
    "        result = cls.next_serial\n",
    "        cls.next_serial += 1\n",
    "        return result\n",
    "    \n",
    "    @classmethod\n",
    "    def create_empty(cls, owner_code, *args, **kwargs):\n",
    "        return cls(owner_code, contents=None, *args, **kwargs)\n",
    "        \n",
    "    def __init__(self, owner_code, contents):   # This will be overidden, so no need to pass *args, **kwargs\n",
    "        self.owner_code = owner_code\n",
    "        self.contents = contents\n",
    "        self.serial = ShippingContainer._get_next_serial()\n",
    "\n",
    "class RefrigeratedShippingContainer(ShippingContainer):\n",
    "    MAX_CELSIUS = 4.0\n",
    "    \n",
    "    def __init__(self, owner_code, contents, celsius):\n",
    "        # super() gets the previous class object. __init__() calls its constructor\n",
    "        super().__init__(owner_code, contents)\n",
    "        self.celsius = celsius        # using setter will automatically enforce validations\n",
    "        \n",
    "    @property\n",
    "    def celsius(self):\n",
    "        return self._celsius\n",
    "    \n",
    "    @celsius.setter\n",
    "    def celsius(self, temperature):\n",
    "        if temperature > RefrigeratedShippingContainer.MAX_CELSIUS:\n",
    "            raise ValueError(\"Temperater is too hot !\")\n",
    "        self._celsius = temperature\n",
    "        \n",
    "class HeatedRefridgeratedShippingContainer(RefrigeratedShippingContainer):\n",
    "    MIN_CELSIUS = -20.0\n",
    "    \n",
    "    # @celsius.setter  # gives error- NameError: name 'celsius' is not defined\n",
    "    @RefrigeratedShippingContainer.celsius.setter    # Use qualified property name\n",
    "    def celsius(self, value):\n",
    "        if not (HeatedRefridgeratedShippingContainer.MIN_CELSIUS \n",
    "                <= value \n",
    "                <= RefrigeratedShippingContainer.MAX_CELSIUS):\n",
    "            raise ValueError(\"Temperature our of range !\")\n",
    "        self._celsius = value\n",
    "        \n",
    "r7 = HeatedRefridgeratedShippingContainer.create_empty(\"ABC\", celsius=1.0)\n",
    "r7.celsius = -21"
   ]
  },
  {
   "cell_type": "code",
   "execution_count": 41,
   "metadata": {},
   "outputs": [
    {
     "ename": "ValueError",
     "evalue": "Temperature is too cold !",
     "output_type": "error",
     "traceback": [
      "\u001b[0;31m---------------------------------------------------------------------------\u001b[0m",
      "\u001b[0;31mValueError\u001b[0m                                Traceback (most recent call last)",
      "\u001b[0;32m<ipython-input-41-bd4f4e38cd9d>\u001b[0m in \u001b[0;36m<module>\u001b[0;34m()\u001b[0m\n\u001b[1;32m     51\u001b[0m \u001b[0;34m\u001b[0m\u001b[0m\n\u001b[1;32m     52\u001b[0m \u001b[0mr8\u001b[0m \u001b[0;34m=\u001b[0m \u001b[0mHeatedRefridgeratedShippingContainer\u001b[0m\u001b[0;34m.\u001b[0m\u001b[0mcreate_empty\u001b[0m\u001b[0;34m(\u001b[0m\u001b[0;34m\"ABC\"\u001b[0m\u001b[0;34m,\u001b[0m \u001b[0mcelsius\u001b[0m\u001b[0;34m=\u001b[0m\u001b[0;36m1.0\u001b[0m\u001b[0;34m)\u001b[0m\u001b[0;34m\u001b[0m\u001b[0m\n\u001b[0;32m---> 53\u001b[0;31m \u001b[0mr8\u001b[0m\u001b[0;34m.\u001b[0m\u001b[0mcelsius\u001b[0m \u001b[0;34m=\u001b[0m \u001b[0;34m-\u001b[0m\u001b[0;36m21\u001b[0m\u001b[0;34m\u001b[0m\u001b[0m\n\u001b[0m",
      "\u001b[0;32m<ipython-input-41-bd4f4e38cd9d>\u001b[0m in \u001b[0;36mcelsius\u001b[0;34m(self, value)\u001b[0m\n\u001b[1;32m     47\u001b[0m     \u001b[0;32mdef\u001b[0m \u001b[0mcelsius\u001b[0m\u001b[0;34m(\u001b[0m\u001b[0mself\u001b[0m\u001b[0;34m,\u001b[0m \u001b[0mvalue\u001b[0m\u001b[0;34m)\u001b[0m\u001b[0;34m:\u001b[0m\u001b[0;34m\u001b[0m\u001b[0m\n\u001b[1;32m     48\u001b[0m         \u001b[0;32mif\u001b[0m \u001b[0;32mnot\u001b[0m \u001b[0;34m(\u001b[0m\u001b[0mHeatedRefridgeratedShippingContainer\u001b[0m\u001b[0;34m.\u001b[0m\u001b[0mMIN_CELSIUS\u001b[0m \u001b[0;34m<=\u001b[0m \u001b[0mvalue\u001b[0m\u001b[0;34m)\u001b[0m\u001b[0;34m:\u001b[0m\u001b[0;34m\u001b[0m\u001b[0m\n\u001b[0;32m---> 49\u001b[0;31m             \u001b[0;32mraise\u001b[0m \u001b[0mValueError\u001b[0m\u001b[0;34m(\u001b[0m\u001b[0;34m\"Temperature is too cold !\"\u001b[0m\u001b[0;34m)\u001b[0m\u001b[0;34m\u001b[0m\u001b[0m\n\u001b[0m\u001b[1;32m     50\u001b[0m         \u001b[0mRefrigeratedShippingContainer\u001b[0m\u001b[0;34m.\u001b[0m\u001b[0mcelsius\u001b[0m\u001b[0;34m.\u001b[0m\u001b[0mfset\u001b[0m\u001b[0;34m(\u001b[0m\u001b[0mself\u001b[0m\u001b[0;34m,\u001b[0m \u001b[0mvalue\u001b[0m\u001b[0;34m)\u001b[0m\u001b[0;34m\u001b[0m\u001b[0m\n\u001b[1;32m     51\u001b[0m \u001b[0;34m\u001b[0m\u001b[0m\n",
      "\u001b[0;31mValueError\u001b[0m: Temperature is too cold !"
     ]
    }
   ],
   "source": [
    "\"\"\"\n",
    "Better way of validating value in setter function.\n",
    "Adhere to DRY.\n",
    "\"\"\"\n",
    "# version 12\n",
    "class ShippingContainer:\n",
    "    next_serial = 1337\n",
    "    \n",
    "    @classmethod\n",
    "    def _get_next_serial(cls):\n",
    "        result = cls.next_serial\n",
    "        cls.next_serial += 1\n",
    "        return result\n",
    "    \n",
    "    @classmethod\n",
    "    def create_empty(cls, owner_code, *args, **kwargs):\n",
    "        return cls(owner_code, contents=None, *args, **kwargs)\n",
    "        \n",
    "    def __init__(self, owner_code, contents):   # This will be overidden, so no need to pass *args, **kwargs\n",
    "        self.owner_code = owner_code\n",
    "        self.contents = contents\n",
    "        self.serial = ShippingContainer._get_next_serial()\n",
    "\n",
    "class RefrigeratedShippingContainer(ShippingContainer):\n",
    "    MAX_CELSIUS = 4.0\n",
    "    \n",
    "    def __init__(self, owner_code, contents, celsius):\n",
    "        # super() gets the previous class object. __init__() calls its constructor\n",
    "        super().__init__(owner_code, contents)\n",
    "        self.celsius = celsius        # using setter will automatically enforce validations\n",
    "        \n",
    "    @property\n",
    "    def celsius(self):\n",
    "        return self._celsius\n",
    "    \n",
    "    @celsius.setter\n",
    "    def celsius(self, temperature):\n",
    "        if temperature > RefrigeratedShippingContainer.MAX_CELSIUS:\n",
    "            raise ValueError(\"Temperater is too hot !\")\n",
    "        self._celsius = temperature\n",
    "        \n",
    "class HeatedRefridgeratedShippingContainer(RefrigeratedShippingContainer):\n",
    "    MIN_CELSIUS = -20.0\n",
    "    \n",
    "    # @celsius.setter  # gives error- NameError: name 'celsius' is not defined\n",
    "    @RefrigeratedShippingContainer.celsius.setter\n",
    "    def celsius(self, value):\n",
    "        if not (HeatedRefridgeratedShippingContainer.MIN_CELSIUS <= value):\n",
    "            raise ValueError(\"Temperature is too cold !\")\n",
    "        RefrigeratedShippingContainer.celsius.fset(self, value)    # super() won't work. Use fset() instance method\n",
    "        \n",
    "r8 = HeatedRefridgeratedShippingContainer.create_empty(\"ABC\", celsius=1.0)\n",
    "r8.celsius = -21"
   ]
  }
 ],
 "metadata": {
  "kernelspec": {
   "display_name": "Python 3",
   "language": "python",
   "name": "python3"
  },
  "language_info": {
   "codemirror_mode": {
    "name": "ipython",
    "version": 3
   },
   "file_extension": ".py",
   "mimetype": "text/x-python",
   "name": "python",
   "nbconvert_exporter": "python",
   "pygments_lexer": "ipython3",
   "version": "3.6.1"
  }
 },
 "nbformat": 4,
 "nbformat_minor": 2
}
