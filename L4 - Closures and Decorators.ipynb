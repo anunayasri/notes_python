{
 "cells": [
  {
   "cell_type": "markdown",
   "metadata": {},
   "source": [
    "## Closures and Decorators\n",
    "\n",
    "```py\n",
    "def func():\n",
    "    ....\n",
    "```\n",
    "`def` is executed at runtime ie. functions are defined at runtime.\n",
    "\n",
    "```py\n",
    "def func():\n",
    "    def local_func():\n",
    "        print(\"hello world\")\n",
    "```\n",
    "`local_func()` is defined everytime func() is called."
   ]
  },
  {
   "cell_type": "code",
   "execution_count": 16,
   "metadata": {
    "collapsed": true
   },
   "outputs": [],
   "source": [
    "from pprint import pprint\n",
    "store=[]\n",
    "def sort_by_last_letter(strings):\n",
    "    def last_letter(s):\n",
    "        return s[-1]\n",
    "    store.append(last_letter)\n",
    "    return sorted(strings, key=last_letter)"
   ]
  },
  {
   "cell_type": "code",
   "execution_count": 20,
   "metadata": {},
   "outputs": [
    {
     "data": {
      "text/plain": [
       "['python3', 'world', 'from', 'hello']"
      ]
     },
     "execution_count": 20,
     "metadata": {},
     "output_type": "execute_result"
    }
   ],
   "source": [
    "sort_by_last_letter([\"hello\", \"world\", \"from\", \"python3\"])\n",
    "sort_by_last_letter([\"hello\", \"world\", \"from\", \"python3\"])\n",
    "sort_by_last_letter([\"hello\", \"world\", \"from\", \"python3\"])\n",
    "sort_by_last_letter([\"hello\", \"world\", \"from\", \"python3\"])"
   ]
  },
  {
   "cell_type": "code",
   "execution_count": 22,
   "metadata": {},
   "outputs": [
    {
     "name": "stdout",
     "output_type": "stream",
     "text": [
      "[<function sort_by_last_letter.<locals>.last_letter at 0x11025cd08>,\n",
      " <function sort_by_last_letter.<locals>.last_letter at 0x11025cbf8>,\n",
      " <function sort_by_last_letter.<locals>.last_letter at 0x11025cd90>,\n",
      " <function sort_by_last_letter.<locals>.last_letter at 0x11025cc80>,\n",
      " <function sort_by_last_letter.<locals>.last_letter at 0x11025cae8>]\n"
     ]
    }
   ],
   "source": [
    "# each call creates a new instance of `last_letter`\n",
    "pprint(store)"
   ]
  },
  {
   "cell_type": "markdown",
   "metadata": {},
   "source": [
    "Local funcs follow the same rules as the normal funcs. They follow **LEGB rule** for name resolution."
   ]
  },
  {
   "cell_type": "markdown",
   "metadata": {},
   "source": [
    "Local funcs are not members of global funcs. ie  \n",
    "`sort_by_last_letter.last_letter`   \n",
    "does not work."
   ]
  },
  {
   "cell_type": "markdown",
   "metadata": {},
   "source": [
    "Local funcs helps in writing functional programming in python. As you can return functions from another functions.  \n",
    "**First class functions** => powerful concept"
   ]
  },
  {
   "cell_type": "markdown",
   "metadata": {},
   "source": [
    "### Closures"
   ]
  },
  {
   "cell_type": "code",
   "execution_count": 24,
   "metadata": {},
   "outputs": [
    {
     "name": "stdout",
     "output_type": "stream",
     "text": [
      "8\n"
     ]
    }
   ],
   "source": [
    "def adder(x):\n",
    "    def add_x(y):\n",
    "        return x+y\n",
    "    return add_x\n",
    "\n",
    "add3 = adder(3)\n",
    "print(add3(5))"
   ]
  },
  {
   "cell_type": "markdown",
   "metadata": {},
   "source": [
    "`add_x` remember the value of `x`.  \n",
    "How ?  \n",
    "When `add_x` is returned it retains the objects of the scope, which contains the variable `x`. This ability is called closures.  \n",
    "The returned function *closes over* the objects of the scope."
   ]
  },
  {
   "cell_type": "markdown",
   "metadata": {},
   "source": [
    "If python retains the objects, where does it store the references of these objects ?  \n",
    "In the attribute `__closure__`."
   ]
  },
  {
   "cell_type": "code",
   "execution_count": 28,
   "metadata": {},
   "outputs": [
    {
     "name": "stdout",
     "output_type": "stream",
     "text": [
      "closed over\n"
     ]
    }
   ],
   "source": [
    "def enclosing():\n",
    "    x = 'closed over'\n",
    "    y = 'not closed over'\n",
    "    def local_func():\n",
    "        print(x)\n",
    "    return local_func\n",
    "\n",
    "lf = enclosing()\n",
    "lf()"
   ]
  },
  {
   "cell_type": "code",
   "execution_count": 30,
   "metadata": {},
   "outputs": [
    {
     "data": {
      "text/plain": [
       "(<cell at 0x110263bb8: str object at 0x110291a70>,)"
      ]
     },
     "execution_count": 30,
     "metadata": {},
     "output_type": "execute_result"
    }
   ],
   "source": [
    "lf.__closure__  # stores the object x, y is not present and will be garbage collected"
   ]
  },
  {
   "cell_type": "markdown",
   "metadata": {},
   "source": [
    "**How are closures useful ?**\n",
    "\n",
    "One use case is *Function factory* ie. a function that generate new specialsed functions.  \n",
    "For eg. `adder` function specified above can generate specialised functions like `add3`."
   ]
  },
  {
   "cell_type": "code",
   "execution_count": 34,
   "metadata": {},
   "outputs": [
    {
     "name": "stdout",
     "output_type": "stream",
     "text": [
      "(<cell at 0x110297e88: int object at 0x10e1dcaf0>,)\n",
      "9\n",
      "16\n"
     ]
    }
   ],
   "source": [
    "def raise_to(exp):\n",
    "    def raise_to_exp(x):\n",
    "        return pow(x, exp)\n",
    "    return raise_to_exp\n",
    "\n",
    "square = raise_to(2)\n",
    "print(square.__closure__)\n",
    "print(square(3))\n",
    "print(square(4))"
   ]
  },
  {
   "cell_type": "markdown",
   "metadata": {},
   "source": [
    "### Decorators\n",
    "\n",
    "Decorators enable us to modify or enhance functions without changing their definitions.\n",
    "\n",
    "**Decorators are powerful and are used widely in Python.**  \n",
    "\n",
    "In python, decorators are *implemented as callables which take and return other callables*.\n",
    "\n",
    "Suppose you want to calculate the time taken by a function to execute."
   ]
  },
  {
   "cell_type": "code",
   "execution_count": 36,
   "metadata": {
    "collapsed": true
   },
   "outputs": [],
   "source": [
    "import time\n",
    "\n",
    "\n",
    "def timing_function(some_function):\n",
    "\n",
    "    \"\"\"\n",
    "    Outputs the time a function takes\n",
    "    to execute.\n",
    "    \"\"\"\n",
    "\n",
    "    def wrapper(*args, **kwargs):   # accepts all positional args & keyword args\n",
    "        t1 = time.time()\n",
    "        some_function(*args, **kwargs)\n",
    "        t2 = time.time()\n",
    "        return \"Time it took to run the function: \" + str((t2 - t1)) + \"\\n\"\n",
    "    return wrapper\n",
    "\n",
    "def sum_till_10000():\n",
    "    num_list = []\n",
    "    for num in (range(0, 10000)):\n",
    "        num_list.append(num)\n",
    "    print(\"\\nSum of all the numbers: \" + str((sum(num_list))))"
   ]
  },
  {
   "cell_type": "code",
   "execution_count": 38,
   "metadata": {},
   "outputs": [
    {
     "name": "stdout",
     "output_type": "stream",
     "text": [
      "\n",
      "Sum of all the numbers: 49995000\n"
     ]
    },
    {
     "data": {
      "text/plain": [
       "'Time it took to run the function: 0.0018477439880371094\\n'"
      ]
     },
     "execution_count": 38,
     "metadata": {},
     "output_type": "execute_result"
    }
   ],
   "source": [
    "timing_function(sum_till_10000)()"
   ]
  },
  {
   "cell_type": "markdown",
   "metadata": {},
   "source": [
    "This is not a clean and scalable way to implement the timing functionality. Python provides us with decorators to implement such wrapping functions."
   ]
  },
  {
   "cell_type": "code",
   "execution_count": 39,
   "metadata": {
    "collapsed": true
   },
   "outputs": [],
   "source": [
    "@timing_function\n",
    "def sum_till_10000():\n",
    "    num_list = []\n",
    "    for num in (range(0, 10000)):\n",
    "        num_list.append(num)\n",
    "    print(\"\\nSum of all the numbers: \" + str((sum(num_list))))"
   ]
  },
  {
   "cell_type": "code",
   "execution_count": 40,
   "metadata": {},
   "outputs": [
    {
     "name": "stdout",
     "output_type": "stream",
     "text": [
      "\n",
      "Sum of all the numbers: 49995000\n"
     ]
    },
    {
     "data": {
      "text/plain": [
       "'Time it took to run the function: 0.0017459392547607422\\n'"
      ]
     },
     "execution_count": 40,
     "metadata": {},
     "output_type": "execute_result"
    }
   ],
   "source": [
    "sum_till_10000()"
   ]
  },
  {
   "cell_type": "markdown",
   "metadata": {},
   "source": [
    "**How does Python implement it ?**\n",
    "\n",
    "The decorator `timing_funtion` takes a callable and returns a callable.  \n",
    "When the decorator is used, Python executes `timing_function` and returns `wrapper`. Its then binds the returned `wrapper` function to the name of the original function ie `sum_till_10000`.\n",
    "\n",
    "Another example can be creating a decorator called `@login_required` to make a view method authenticate the user.  \n",
    "\n",
    "\n",
    "But functions are not the only callables in Python. **Classes are also callables.**  \n",
    "\n",
    "To make a class a decorator, it must have the following format -\n",
    "```py\n",
    "class ClassDec:\n",
    "    def __init__(self, f):\n",
    "        self.f = f\n",
    "        ...\n",
    "        \n",
    "    def __call__(self, *args, **kwargs):\n",
    "        ...\n",
    "        self.f(*args, **kwargs)\n",
    "```"
   ]
  },
  {
   "cell_type": "code",
   "execution_count": 42,
   "metadata": {},
   "outputs": [
    {
     "name": "stdout",
     "output_type": "stream",
     "text": [
      "Hello, One\n",
      "Hello, Two\n",
      "Hello, Three\n",
      "3\n"
     ]
    }
   ],
   "source": [
    "# CallCount decorator to count the number of times a func is called.\n",
    "class CallCount:\n",
    "    def __init__(self, f):\n",
    "        self.f = f\n",
    "        self.count = 0\n",
    "        \n",
    "    def __call__(self, *args, **kwargs):\n",
    "        self.count += 1\n",
    "        return self.f(*args, **kwargs)  # execute the func f & return the result\n",
    "\n",
    "@CallCount\n",
    "def hello(name):\n",
    "    print(\"Hello, {}\".format(name))\n",
    "    \n",
    "hello('One')\n",
    "hello('Two')\n",
    "hello('Three')\n",
    "\n",
    "print(hello.count)"
   ]
  },
  {
   "cell_type": "code",
   "execution_count": 44,
   "metadata": {},
   "outputs": [
    {
     "name": "stdout",
     "output_type": "stream",
     "text": [
      "<class '__main__.CallCount'>\n",
      "<class '__main__.CallCount'>\n",
      "['__call__', '__class__', '__delattr__', '__dict__', '__dir__', '__doc__', '__eq__', '__format__', '__ge__', '__getattribute__', '__gt__', '__hash__', '__init__', '__init_subclass__', '__le__', '__lt__', '__module__', '__ne__', '__new__', '__reduce__', '__reduce_ex__', '__repr__', '__setattr__', '__sizeof__', '__str__', '__subclasshook__', '__weakref__', 'count', 'f']\n"
     ]
    }
   ],
   "source": [
    "print(type(hello))\n",
    "print(hello.__class__)\n",
    "print(dir(hello))"
   ]
  },
  {
   "cell_type": "markdown",
   "metadata": {},
   "source": [
    "After using class decorator, `hello` now points to an instance to class `CallCount` and is callable.  \n",
    "Since `hello` is an instance, `hello.count` works !"
   ]
  },
  {
   "cell_type": "markdown",
   "metadata": {},
   "source": [
    "**Class instances are also callables, and hence can be used as decorators !**"
   ]
  },
  {
   "cell_type": "code",
   "execution_count": 50,
   "metadata": {},
   "outputs": [
    {
     "name": "stdout",
     "output_type": "stream",
     "text": [
      "Calling <function rotate_list at 0x11024ee18>\n"
     ]
    },
    {
     "data": {
      "text/plain": [
       "[2, 3, 1]"
      ]
     },
     "execution_count": 50,
     "metadata": {},
     "output_type": "execute_result"
    }
   ],
   "source": [
    "class Trace:\n",
    "    def __init__(self):\n",
    "        self.enabled = True\n",
    "        \n",
    "    def __call__(self, f):\n",
    "        def wrap(*args, **kwargs):\n",
    "            if self.enabled:\n",
    "                print(\"Calling {}\".format(f))\n",
    "            return f(*args, **kwargs)           \n",
    "        return wrap\n",
    "    \n",
    "tracer = Trace()   # instance is callable due to implementation of __call__\n",
    "\n",
    "@tracer     # Class instance is used as a decorator\n",
    "def rotate_list(l):\n",
    "    return l[1:] + [l[0]]\n",
    "\n",
    "rotate_list([1,2,3])"
   ]
  },
  {
   "cell_type": "markdown",
   "metadata": {},
   "source": [
    "*Using functions, classes and class instances as decorator gives a lot of flexibility to a developer.*  \n",
    "Use it wisely !"
   ]
  },
  {
   "cell_type": "markdown",
   "metadata": {},
   "source": [
    "**Multiple decorators**\n",
    "\n",
    "```py\n",
    "@decorator1\n",
    "@decorator2\n",
    "@decorator3\n",
    "def some_func():\n",
    "    ...\n",
    "```"
   ]
  },
  {
   "cell_type": "markdown",
   "metadata": {},
   "source": [
    "By using decorators, function's important metadata such as `__name__` and`'__doc__` is lost.  \n",
    "Using `functools.wraps()` prserves this metadata."
   ]
  },
  {
   "cell_type": "code",
   "execution_count": 57,
   "metadata": {},
   "outputs": [
    {
     "name": "stdout",
     "output_type": "stream",
     "text": [
      "hello\n",
      "Print a well known message.\n",
      "Help on function hello in module __main__:\n",
      "\n",
      "hello()\n",
      "    Print a well known message.\n",
      "\n"
     ]
    }
   ],
   "source": [
    "def hello():\n",
    "    \"Print a well known message.\"\n",
    "    print(\"Hello world\")\n",
    "    \n",
    "print(hello.__name__)\n",
    "print(hello.__doc__)\n",
    "help(hello)"
   ]
  },
  {
   "cell_type": "code",
   "execution_count": 58,
   "metadata": {},
   "outputs": [
    {
     "name": "stdout",
     "output_type": "stream",
     "text": [
      "wrapper\n",
      "None\n",
      "Help on function wrapper in module __main__:\n",
      "\n",
      "wrapper()\n",
      "\n"
     ]
    }
   ],
   "source": [
    "# using a decorator\n",
    "def noop(f):\n",
    "    def wrapper():\n",
    "        return f()\n",
    "    return wrapper\n",
    "\n",
    "@noop\n",
    "def hello2():\n",
    "    \"Print a well known message.\"\n",
    "    print(\"Hello world\")\n",
    "    \n",
    "# function metadata is lost\n",
    "print(hello2.__name__)\n",
    "print(hello2.__doc__)\n",
    "help(hello2)"
   ]
  },
  {
   "cell_type": "code",
   "execution_count": 59,
   "metadata": {},
   "outputs": [
    {
     "name": "stdout",
     "output_type": "stream",
     "text": [
      "hello3\n",
      "Print a well known message.\n",
      "Help on function hello in module __main__:\n",
      "\n",
      "hello()\n",
      "    Print a well known message.\n",
      "\n"
     ]
    }
   ],
   "source": [
    "import functools\n",
    "\n",
    "def noop(f):\n",
    "    @functools.wraps(f)   # this returns a func which acts as a decorator\n",
    "    def wrapper():\n",
    "        return f()\n",
    "    return wrapper\n",
    "\n",
    "@noop\n",
    "def hello3():\n",
    "    \"Print a well known message.\"\n",
    "    print(\"Hello world\")\n",
    "    \n",
    "# function metadata is preserved\n",
    "print(hello3.__name__)\n",
    "print(hello3.__doc__)\n",
    "help(hello)"
   ]
  },
  {
   "cell_type": "code",
   "execution_count": null,
   "metadata": {
    "collapsed": true
   },
   "outputs": [],
   "source": []
  }
 ],
 "metadata": {
  "kernelspec": {
   "display_name": "Python 3",
   "language": "python",
   "name": "python3"
  },
  "language_info": {
   "codemirror_mode": {
    "name": "ipython",
    "version": 3
   },
   "file_extension": ".py",
   "mimetype": "text/x-python",
   "name": "python",
   "nbconvert_exporter": "python",
   "pygments_lexer": "ipython3",
   "version": "3.6.1"
  }
 },
 "nbformat": 4,
 "nbformat_minor": 2
}
