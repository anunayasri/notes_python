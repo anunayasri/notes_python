{
 "cells": [
  {
   "cell_type": "markdown",
   "metadata": {},
   "source": [
    "## Object-Oriented Programming in Python "
   ]
  },
  {
   "cell_type": "markdown",
   "metadata": {},
   "source": [
    "Lets try to implement a class `Fraction` that represents a fraction.  \n",
    "\n",
    "OOPS:\n",
    "\n",
    "* Class declaration\n",
    "* Constructor  \n",
    "\n",
    "* Instance variables\n",
    "* Class variables\n",
    "* Static variables\n",
    "* Non-static variables\n",
    "\n",
    "* Class methods\n",
    "* Instance methods\n",
    "\n",
    "Inheritance\n",
    "* Inheritance\n",
    "\n",
    "Polymorphism\n",
    "* Function overloading\n",
    "* Function overriding"
   ]
  },
  {
   "cell_type": "code",
   "execution_count": 7,
   "metadata": {
    "collapsed": true
   },
   "outputs": [],
   "source": [
    "from __future__ import print_function\n",
    "class Fraction:\n",
    "    def __init__(self, top, bottom):\n",
    "        self.num = top\n",
    "        self.den = bottom\n",
    "        \n",
    "    def show(self):\n",
    "        print(self.num, \"/\", self.den)\n",
    "        \n",
    "    def __str__(self):\n",
    "        return str(self.num)+\"/\"+str(self.den)"
   ]
  },
  {
   "cell_type": "code",
   "execution_count": 8,
   "metadata": {
    "collapsed": false
   },
   "outputs": [
    {
     "name": "stdout",
     "output_type": "stream",
     "text": [
      "2 / 4"
     ]
    }
   ],
   "source": [
    "fr = Fraction(2,4)\n",
    "fr.show()"
   ]
  },
  {
   "cell_type": "markdown",
   "metadata": {},
   "source": [
    "**Constructor**: `__init__()`  \n",
    "\n",
    "`self` is a special parameter that will always be used as a reference back to the object itself. It must always be the first formal parameter; however, it will never be given an actual parameter value upon invocation."
   ]
  },
  {
   "cell_type": "markdown",
   "metadata": {},
   "source": [
    "**Instance variables**\n",
    "\n",
    "Declared by using `self.<variable_name>`.\n",
    "```py\n",
    "def __init__(self, top, bottom):\n",
    "        self.num = top\n",
    "        self.den = bottom\n",
    "```\n",
    "\n",
    "**Instance methods**  \n",
    "\n",
    "Declared by using `self` as the first parameter in the function.\n",
    "```py\n",
    "def show(self):\n",
    "        print(self.num, \"/\", self.den)\n",
    "```\n",
    "\n",
    "**Function Overriding**\n",
    "\n",
    "```py\n",
    "def __str__(self):\n",
    "        return str(self.num)+\"/\"+str(self.den)\n",
    "```"
   ]
  },
  {
   "cell_type": "markdown",
   "metadata": {},
   "source": [
    "**Overriding Operators**"
   ]
  },
  {
   "cell_type": "code",
   "execution_count": 9,
   "metadata": {
    "collapsed": true
   },
   "outputs": [],
   "source": [
    "from __future__ import print_function\n",
    "class Fraction:\n",
    "    def __init__(self, top, bottom):\n",
    "        self.num = top\n",
    "        self.den = bottom\n",
    "        \n",
    "    def show(self):\n",
    "        print(self.num, \"/\", self.den)\n",
    "        \n",
    "    def __str__(self):\n",
    "        return str(self.num)+\"/\"+str(self.den)\n",
    "    \n",
    "    # Overriding + operator for instances of the class\n",
    "    def __add__(self, otherFraction):\n",
    "        newnum = self.num*otherFraction.den + self.den*otherFraction.num\n",
    "        newden = self.den * otherFraction.den\n",
    "        return Fraction(newnum,newden)"
   ]
  },
  {
   "cell_type": "code",
   "execution_count": 10,
   "metadata": {
    "collapsed": false
   },
   "outputs": [
    {
     "name": "stdout",
     "output_type": "stream",
     "text": [
      "24/16\n"
     ]
    }
   ],
   "source": [
    "f1 = Fraction(1,4)\n",
    "f2 = Fraction(5,4)\n",
    "f3 = f1 + f2\n",
    "print(f3)"
   ]
  },
  {
   "cell_type": "markdown",
   "metadata": {},
   "source": [
    "**Equals Operator**  \n",
    "\n",
    "Assume we have two Fraction objects, `f1` and `f2`. `f1==f2` will only be True if they are references to the same object. Two different objects with the same numerators and denominators would not be equal under this implementation. This is called **shallow equality**.\n",
    "\n",
    "In **Deep equality**, `f1==f2` returns `True` if the values of the fractions are equal. If can be implemented using `__eq__` function."
   ]
  }
 ],
 "metadata": {
  "kernelspec": {
   "display_name": "Python 2",
   "language": "python",
   "name": "python2"
  },
  "language_info": {
   "codemirror_mode": {
    "name": "ipython",
    "version": 2
   },
   "file_extension": ".py",
   "mimetype": "text/x-python",
   "name": "python",
   "nbconvert_exporter": "python",
   "pygments_lexer": "ipython2",
   "version": "2.7.6"
  }
 },
 "nbformat": 4,
 "nbformat_minor": 0
}
