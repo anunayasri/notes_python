{
 "cells": [
  {
   "cell_type": "code",
   "execution_count": 1,
   "metadata": {},
   "outputs": [
    {
     "data": {
      "text/plain": [
       "10"
      ]
     },
     "execution_count": 1,
     "metadata": {},
     "output_type": "execute_result"
    }
   ],
   "source": [
    "# Using sum for a list of fixed size\n",
    "sum([1,2,3,4])"
   ]
  },
  {
   "cell_type": "code",
   "execution_count": 3,
   "metadata": {},
   "outputs": [
    {
     "name": "stdout",
     "output_type": "stream",
     "text": [
      "332833500\n",
      "332833500\n"
     ]
    }
   ],
   "source": [
    "numbers = range(1000)\n",
    "\n",
    "# No streaming\n",
    "r1 = sum([n**2 for n in numbers])\n",
    "print(r1)\n",
    "\n",
    "# Generators\n",
    "r2 = sum(n**2 for n in numbers)   # This is not a list comprehension!\n",
    "print(r2)"
   ]
  },
  {
   "cell_type": "markdown",
   "metadata": {},
   "source": [
    "Which one is faster ? And what is the difference ?\n",
    "\n",
    "The true power of iterating over sequences lazily is in saving memory. Plus, you can feed generators as input ot the other generators, creating long, data-driven pipelines, with sequence items  pulled and processed as needed."
   ]
  },
  {
   "cell_type": "markdown",
   "metadata": {},
   "source": [
    "## generators vs iterables vs iterators\n",
    "\n",
    "Both iterables & generators produce an iterator, allowing us to do \"for record in iterable_or_generator...\"\n",
    "\n",
    "The diff b/w iterables & generators: once you've burned through a generator once, you're done. There is no more data."
   ]
  },
  {
   "cell_type": "code",
   "execution_count": null,
   "metadata": {},
   "outputs": [],
   "source": []
  }
 ],
 "metadata": {
  "kernelspec": {
   "display_name": "Python 3",
   "language": "python",
   "name": "python3"
  },
  "language_info": {
   "codemirror_mode": {
    "name": "ipython",
    "version": 3
   },
   "file_extension": ".py",
   "mimetype": "text/x-python",
   "name": "python",
   "nbconvert_exporter": "python",
   "pygments_lexer": "ipython3",
   "version": "3.6.5"
  }
 },
 "nbformat": 4,
 "nbformat_minor": 2
}
